{
  "nbformat": 4,
  "nbformat_minor": 0,
  "metadata": {
    "colab": {
      "name": "First project.ipynb",
      "provenance": [],
      "collapsed_sections": []
    },
    "kernelspec": {
      "name": "python3",
      "display_name": "Python 3"
    },
    "language_info": {
      "name": "python"
    }
  },
  "cells": [
    {
      "cell_type": "code",
      "source": [
        "from google.colab import files\n",
        "data_to_load = files.upload()"
      ],
      "metadata": {
        "colab": {
          "base_uri": "https://localhost:8080/",
          "height": 73,
          "resources": {
            "http://localhost:8080/nbextensions/google.colab/files.js": {
              "data": "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",
              "ok": true,
              "headers": [
                [
                  "content-type",
                  "application/javascript"
                ]
              ],
              "status": 200,
              "status_text": ""
            }
          }
        },
        "id": "9VEYskfD4cWi",
        "outputId": "fa07c7af-6a98-485f-a217-f1e580baf10a"
      },
      "execution_count": 1,
      "outputs": [
        {
          "output_type": "display_data",
          "data": {
            "text/html": [
              "\n",
              "     <input type=\"file\" id=\"files-0cbece4e-f979-4214-96af-d1c960bd74a6\" name=\"files[]\" multiple disabled\n",
              "        style=\"border:none\" />\n",
              "     <output id=\"result-0cbece4e-f979-4214-96af-d1c960bd74a6\">\n",
              "      Upload widget is only available when the cell has been executed in the\n",
              "      current browser session. Please rerun this cell to enable.\n",
              "      </output>\n",
              "      <script src=\"/nbextensions/google.colab/files.js\"></script> "
            ],
            "text/plain": [
              "<IPython.core.display.HTML object>"
            ]
          },
          "metadata": {}
        },
        {
          "output_type": "stream",
          "name": "stdout",
          "text": [
            "Saving makeSenseOfCensus.csv to makeSenseOfCensus.csv\n"
          ]
        }
      ]
    },
    {
      "cell_type": "code",
      "source": [
        "import numpy as np"
      ],
      "metadata": {
        "id": "Ohv2KMweAapb"
      },
      "execution_count": 2,
      "outputs": []
    },
    {
      "cell_type": "markdown",
      "source": [
        "____________________\n",
        "**Load and read the Data**\n",
        "____________________"
      ],
      "metadata": {
        "id": "8nJFClOtFThz"
      }
    },
    {
      "cell_type": "code",
      "source": [
        "data_file=\"/content/makeSenseOfCensus.csv\""
      ],
      "metadata": {
        "id": "M_gMMwJGAc-u"
      },
      "execution_count": 3,
      "outputs": []
    },
    {
      "cell_type": "code",
      "source": [
        "data = np.genfromtxt(data_file, delimiter=\",\", skip_header=1)\n",
        "print(\"\\nData:\\n\\n \", data)"
      ],
      "metadata": {
        "colab": {
          "base_uri": "https://localhost:8080/"
        },
        "id": "DCFDXi9_AfyA",
        "outputId": "92e9aec2-e7bc-4dc8-b054-b6d13b4bc732"
      },
      "execution_count": 4,
      "outputs": [
        {
          "output_type": "stream",
          "name": "stdout",
          "text": [
            "\n",
            "Data:\n",
            "\n",
            "  [[39. 13.  4. ...  0. 40.  0.]\n",
            " [50. 13.  4. ...  0. 13.  0.]\n",
            " [38.  9.  4. ...  0. 40.  0.]\n",
            " ...\n",
            " [48. 13.  4. ...  0. 58.  1.]\n",
            " [40. 10.  4. ...  0. 40.  0.]\n",
            " [39. 13.  4. ...  0. 50.  1.]]\n"
          ]
        }
      ]
    },
    {
      "cell_type": "code",
      "source": [
        "#Printed the type of data\n",
        "print(\"\\nType of data: \\n\\n\\n\", type(data))"
      ],
      "metadata": {
        "colab": {
          "base_uri": "https://localhost:8080/"
        },
        "id": "PLWFkfjiA3GL",
        "outputId": "4e0e7030-2153-4bd9-c786-9d147e50e8d8"
      },
      "execution_count": 5,
      "outputs": [
        {
          "output_type": "stream",
          "name": "stdout",
          "text": [
            "\n",
            "Type of data: \n",
            "\n",
            "\n",
            " <class 'numpy.ndarray'>\n"
          ]
        }
      ]
    },
    {
      "cell_type": "markdown",
      "source": [
        "___________________________________________\n",
        "**Append the Data**\n",
        "___________________________________________"
      ],
      "metadata": {
        "id": "cbFdG8KvFm6N"
      }
    },
    {
      "cell_type": "code",
      "source": [
        "#Created new record\n",
        "new_record = [[50,9,4,1,0,0,40,0]]"
      ],
      "metadata": {
        "id": "nSkBVZ_fA5gD"
      },
      "execution_count": 6,
      "outputs": []
    },
    {
      "cell_type": "code",
      "source": [
        "#Joined a sequence of arrays along an existing axis\n",
        "data2=np.concatenate((data,new_record))"
      ],
      "metadata": {
        "id": "FFTJkA4KA8_T"
      },
      "execution_count": 7,
      "outputs": []
    },
    {
      "cell_type": "code",
      "source": [
        "data2"
      ],
      "metadata": {
        "colab": {
          "base_uri": "https://localhost:8080/"
        },
        "id": "bggJsaxEA-2M",
        "outputId": "e490d8d9-e20d-49c5-b090-ad3b74e928e9"
      },
      "execution_count": 8,
      "outputs": [
        {
          "output_type": "execute_result",
          "data": {
            "text/plain": [
              "array([[39., 13.,  4., ...,  0., 40.,  0.],\n",
              "       [50., 13.,  4., ...,  0., 13.,  0.],\n",
              "       [38.,  9.,  4., ...,  0., 40.,  0.],\n",
              "       ...,\n",
              "       [40., 10.,  4., ...,  0., 40.,  0.],\n",
              "       [39., 13.,  4., ...,  0., 50.,  1.],\n",
              "       [50.,  9.,  4., ...,  0., 40.,  0.]])"
            ]
          },
          "metadata": {},
          "execution_count": 8
        }
      ]
    },
    {
      "cell_type": "markdown",
      "source": [
        "___________________________________________\n",
        "**Сheck the age of the population**\n",
        "___________________________________________"
      ],
      "metadata": {
        "id": "jHwEJuoOGDL7"
      }
    },
    {
      "cell_type": "code",
      "source": [
        "#Created a new array called 'age' by taking only age column\n",
        "age = data2[:,0]\n",
        "age"
      ],
      "metadata": {
        "colab": {
          "base_uri": "https://localhost:8080/"
        },
        "id": "WQ1yrwdQDffI",
        "outputId": "9ae156dc-2fdc-4d9e-aef4-8befa795833e"
      },
      "execution_count": 9,
      "outputs": [
        {
          "output_type": "execute_result",
          "data": {
            "text/plain": [
              "array([39., 50., 38., ..., 40., 39., 50.])"
            ]
          },
          "metadata": {},
          "execution_count": 9
        }
      ]
    },
    {
      "cell_type": "code",
      "source": [
        "#Found the max age\n",
        "max_age = max(age)\n",
        "max_age"
      ],
      "metadata": {
        "colab": {
          "base_uri": "https://localhost:8080/"
        },
        "id": "krT_S-JjEab-",
        "outputId": "569756a8-3117-4674-cfaf-b346654c4e79"
      },
      "execution_count": 10,
      "outputs": [
        {
          "output_type": "execute_result",
          "data": {
            "text/plain": [
              "90.0"
            ]
          },
          "metadata": {},
          "execution_count": 10
        }
      ]
    },
    {
      "cell_type": "code",
      "source": [
        "#Found the min age\n",
        "min_age = min(age)\n",
        "min_age"
      ],
      "metadata": {
        "colab": {
          "base_uri": "https://localhost:8080/"
        },
        "id": "iTAjU3k9EoJ3",
        "outputId": "aa035ede-db13-4e8c-e83d-3bee566f8e81"
      },
      "execution_count": 11,
      "outputs": [
        {
          "output_type": "execute_result",
          "data": {
            "text/plain": [
              "17.0"
            ]
          },
          "metadata": {},
          "execution_count": 11
        }
      ]
    },
    {
      "cell_type": "code",
      "source": [
        "#Found the mean age\n",
        "age_mean = age.mean()\n",
        "age_mean"
      ],
      "metadata": {
        "colab": {
          "base_uri": "https://localhost:8080/"
        },
        "id": "qZ6CvXRgG4-p",
        "outputId": "e1ac13a5-eef7-4b41-c84b-6be0df8146bf"
      },
      "execution_count": 12,
      "outputs": [
        {
          "output_type": "execute_result",
          "data": {
            "text/plain": [
              "38.06293706293706"
            ]
          },
          "metadata": {},
          "execution_count": 12
        }
      ]
    },
    {
      "cell_type": "code",
      "source": [
        "##Found the standard deviation of the age\n",
        "age_std = age.std()\n",
        "age_std"
      ],
      "metadata": {
        "colab": {
          "base_uri": "https://localhost:8080/"
        },
        "id": "-UFgq82iHLvT",
        "outputId": "869ed882-8007-4a9b-d53f-0e3e4e850b94"
      },
      "execution_count": 13,
      "outputs": [
        {
          "output_type": "execute_result",
          "data": {
            "text/plain": [
              "13.341478176165857"
            ]
          },
          "metadata": {},
          "execution_count": 13
        }
      ]
    },
    {
      "cell_type": "markdown",
      "source": [
        "___________________________________________\n",
        "**Сheck the country's race distribution to identify the minorities**\n",
        "___________________________________________"
      ],
      "metadata": {
        "id": "2qRL2IssGj3g"
      }
    },
    {
      "cell_type": "code",
      "source": [
        "#Created five different arrays by subsetting 'census' array by Race column\n",
        "race_0 = data2[data2[:,2]==0]\n",
        "race_1 = data2[data2[:,2]==1]\n",
        "race_2 = data2[data2[:,2]==2]\n",
        "race_3 = data2[data2[:,2]==3]\n",
        "race_4 = data2[data2[:,2]==4]\n"
      ],
      "metadata": {
        "id": "gpmalnIgIElW"
      },
      "execution_count": 14,
      "outputs": []
    },
    {
      "cell_type": "code",
      "source": [
        "#Stored the length of the above created arrays\n",
        "len_0=len(race_0)\n",
        "len_1=len(race_1)\n",
        "len_2=len(race_2)\n",
        "len_3=len(race_3)\n",
        "len_4=len(race_4)\n",
        "\n",
        "print(len_0, len_1, len_2, len_3, len_4)"
      ],
      "metadata": {
        "colab": {
          "base_uri": "https://localhost:8080/"
        },
        "id": "dnVuzsgHJtYB",
        "outputId": "a06d0b1a-e0e7-48eb-e538-9b0c1200085a"
      },
      "execution_count": 15,
      "outputs": [
        {
          "output_type": "stream",
          "name": "stdout",
          "text": [
            "10 27 110 6 848\n"
          ]
        }
      ]
    },
    {
      "cell_type": "code",
      "source": [
        "#Found which is the race with the minimum no. of citizens\n",
        "minority_race = min(len_0, len_1, len_2, len_3, len_4)\n",
        "print(minority_race)"
      ],
      "metadata": {
        "colab": {
          "base_uri": "https://localhost:8080/"
        },
        "id": "Da7EyI5IKQrL",
        "outputId": "24ebdc39-c668-488c-de65-4f1f6ea8593e"
      },
      "execution_count": 16,
      "outputs": [
        {
          "output_type": "stream",
          "name": "stdout",
          "text": [
            "6\n"
          ]
        }
      ]
    },
    {
      "cell_type": "code",
      "source": [
        "#Stored the number associated with the minority race\n",
        "if minority_race == len_0:\n",
        "  minority_race = 0\n",
        "elif minority_race == len_1:\n",
        "  minority_race = 1\n",
        "elif minority_race == len_2:\n",
        "  minority_race = 2\n",
        "elif minority_race == len_3:\n",
        "  minority_race = 3\n",
        "elif minority_race == len_4:\n",
        "  minority_race = 4\n",
        "print('Minority race: ',minority_race)"
      ],
      "metadata": {
        "colab": {
          "base_uri": "https://localhost:8080/"
        },
        "id": "3dwB37r9K-_H",
        "outputId": "f92f718c-fbcc-4952-d75e-a804bd666552"
      },
      "execution_count": 17,
      "outputs": [
        {
          "output_type": "stream",
          "name": "stdout",
          "text": [
            "Minority race:  3\n"
          ]
        }
      ]
    },
    {
      "cell_type": "markdown",
      "source": [
        "___________________________________________\n",
        "**According to the law, citizens over 60 years of age must not work more than 25 hours a week. Let's check if the policy is in effect**\n",
        "___________________________________________"
      ],
      "metadata": {
        "id": "OQAeADoYHNk_"
      }
    },
    {
      "cell_type": "code",
      "source": [
        "#Created a new subset array called 'senior_citizens'\n",
        "senior_citizens = data2[data2[:,0]>60]\n",
        "senior_citizens"
      ],
      "metadata": {
        "id": "I8CyVLk-M46F",
        "colab": {
          "base_uri": "https://localhost:8080/"
        },
        "outputId": "bc2aa382-600d-48b8-eb2b-1550b934b6d3"
      },
      "execution_count": 18,
      "outputs": [
        {
          "output_type": "execute_result",
          "data": {
            "text/plain": [
              "array([[7.9000e+01, 1.0000e+01, 4.0000e+00, 1.0000e+00, 0.0000e+00,\n",
              "        0.0000e+00, 2.0000e+01, 0.0000e+00],\n",
              "       [6.7000e+01, 6.0000e+00, 4.0000e+00, 1.0000e+00, 0.0000e+00,\n",
              "        0.0000e+00, 2.0000e+00, 0.0000e+00],\n",
              "       [7.6000e+01, 1.4000e+01, 4.0000e+00, 1.0000e+00, 0.0000e+00,\n",
              "        0.0000e+00, 4.0000e+01, 1.0000e+00],\n",
              "       [6.1000e+01, 9.0000e+00, 4.0000e+00, 1.0000e+00, 0.0000e+00,\n",
              "        0.0000e+00, 4.0000e+01, 0.0000e+00],\n",
              "       [7.0000e+01, 1.0000e+01, 4.0000e+00, 1.0000e+00, 0.0000e+00,\n",
              "        0.0000e+00, 4.0000e+01, 0.0000e+00],\n",
              "       [6.4000e+01, 7.0000e+00, 4.0000e+00, 1.0000e+00, 0.0000e+00,\n",
              "        2.1790e+03, 4.0000e+01, 0.0000e+00],\n",
              "       [7.1000e+01, 1.0000e+01, 2.0000e+00, 1.0000e+00, 0.0000e+00,\n",
              "        1.8160e+03, 2.0000e+00, 0.0000e+00],\n",
              "       [6.8000e+01, 2.0000e+00, 4.0000e+00, 0.0000e+00, 0.0000e+00,\n",
              "        0.0000e+00, 2.0000e+01, 0.0000e+00],\n",
              "       [6.6000e+01, 1.1000e+01, 4.0000e+00, 0.0000e+00, 0.0000e+00,\n",
              "        0.0000e+00, 2.0000e+01, 0.0000e+00],\n",
              "       [6.4000e+01, 2.0000e+00, 4.0000e+00, 1.0000e+00, 0.0000e+00,\n",
              "        0.0000e+00, 4.0000e+01, 0.0000e+00],\n",
              "       [9.0000e+01, 9.0000e+00, 2.0000e+00, 1.0000e+00, 0.0000e+00,\n",
              "        2.2060e+03, 4.0000e+01, 0.0000e+00],\n",
              "       [6.6000e+01, 9.0000e+00, 4.0000e+00, 1.0000e+00, 1.4090e+03,\n",
              "        0.0000e+00, 5.0000e+01, 0.0000e+00],\n",
              "       [7.5000e+01, 1.1000e+01, 4.0000e+00, 0.0000e+00, 0.0000e+00,\n",
              "        0.0000e+00, 2.0000e+01, 0.0000e+00],\n",
              "       [6.5000e+01, 9.0000e+00, 4.0000e+00, 0.0000e+00, 0.0000e+00,\n",
              "        0.0000e+00, 4.0000e+01, 0.0000e+00],\n",
              "       [6.4000e+01, 9.0000e+00, 4.0000e+00, 1.0000e+00, 0.0000e+00,\n",
              "        0.0000e+00, 4.0000e+01, 1.0000e+00],\n",
              "       [6.1000e+01, 9.0000e+00, 4.0000e+00, 1.0000e+00, 0.0000e+00,\n",
              "        0.0000e+00, 4.0000e+01, 1.0000e+00],\n",
              "       [6.5000e+01, 9.0000e+00, 4.0000e+00, 1.0000e+00, 0.0000e+00,\n",
              "        0.0000e+00, 1.6000e+01, 0.0000e+00],\n",
              "       [7.7000e+01, 1.0000e+01, 4.0000e+00, 1.0000e+00, 0.0000e+00,\n",
              "        0.0000e+00, 4.0000e+01, 0.0000e+00],\n",
              "       [6.2000e+01, 9.0000e+00, 4.0000e+00, 0.0000e+00, 0.0000e+00,\n",
              "        0.0000e+00, 2.4000e+01, 0.0000e+00],\n",
              "       [7.6000e+01, 1.4000e+01, 4.0000e+00, 1.0000e+00, 0.0000e+00,\n",
              "        0.0000e+00, 1.0000e+01, 0.0000e+00],\n",
              "       [6.3000e+01, 9.0000e+00, 4.0000e+00, 1.0000e+00, 0.0000e+00,\n",
              "        0.0000e+00, 4.5000e+01, 0.0000e+00],\n",
              "       [6.6000e+01, 9.0000e+00, 4.0000e+00, 1.0000e+00, 2.0500e+03,\n",
              "        0.0000e+00, 5.5000e+01, 0.0000e+00],\n",
              "       [6.7000e+01, 7.0000e+00, 4.0000e+00, 1.0000e+00, 0.0000e+00,\n",
              "        0.0000e+00, 8.0000e+00, 0.0000e+00],\n",
              "       [6.5000e+01, 7.0000e+00, 3.0000e+00, 1.0000e+00, 0.0000e+00,\n",
              "        0.0000e+00, 4.0000e+01, 0.0000e+00],\n",
              "       [6.2000e+01, 1.4000e+01, 4.0000e+00, 1.0000e+00, 0.0000e+00,\n",
              "        0.0000e+00, 4.0000e+01, 1.0000e+00],\n",
              "       [6.3000e+01, 9.0000e+00, 4.0000e+00, 1.0000e+00, 0.0000e+00,\n",
              "        0.0000e+00, 4.0000e+01, 1.0000e+00],\n",
              "       [8.0000e+01, 9.0000e+00, 4.0000e+00, 1.0000e+00, 0.0000e+00,\n",
              "        0.0000e+00, 2.4000e+01, 0.0000e+00],\n",
              "       [6.7000e+01, 1.1000e+01, 4.0000e+00, 0.0000e+00, 0.0000e+00,\n",
              "        0.0000e+00, 2.4000e+01, 0.0000e+00],\n",
              "       [6.3000e+01, 2.0000e+00, 4.0000e+00, 1.0000e+00, 0.0000e+00,\n",
              "        0.0000e+00, 3.5000e+01, 0.0000e+00],\n",
              "       [7.2000e+01, 9.0000e+00, 4.0000e+00, 1.0000e+00, 0.0000e+00,\n",
              "        0.0000e+00, 2.0000e+01, 0.0000e+00],\n",
              "       [6.2000e+01, 9.0000e+00, 4.0000e+00, 1.0000e+00, 0.0000e+00,\n",
              "        0.0000e+00, 4.0000e+01, 0.0000e+00],\n",
              "       [7.4000e+01, 1.0000e+01, 4.0000e+00, 0.0000e+00, 0.0000e+00,\n",
              "        0.0000e+00, 9.0000e+00, 0.0000e+00],\n",
              "       [6.7000e+01, 1.5000e+01, 4.0000e+00, 1.0000e+00, 2.0051e+04,\n",
              "        0.0000e+00, 4.8000e+01, 1.0000e+00],\n",
              "       [7.2000e+01, 7.0000e+00, 4.0000e+00, 0.0000e+00, 0.0000e+00,\n",
              "        0.0000e+00, 4.0000e+01, 0.0000e+00],\n",
              "       [6.9000e+01, 7.0000e+00, 4.0000e+00, 0.0000e+00, 0.0000e+00,\n",
              "        0.0000e+00, 4.0000e+01, 0.0000e+00],\n",
              "       [6.5000e+01, 1.0000e+01, 4.0000e+00, 1.0000e+00, 0.0000e+00,\n",
              "        0.0000e+00, 3.0000e+01, 1.0000e+00],\n",
              "       [6.5000e+01, 5.0000e+00, 2.0000e+00, 0.0000e+00, 0.0000e+00,\n",
              "        0.0000e+00, 2.4000e+01, 0.0000e+00],\n",
              "       [7.1000e+01, 9.0000e+00, 4.0000e+00, 1.0000e+00, 0.0000e+00,\n",
              "        0.0000e+00, 1.5000e+01, 0.0000e+00],\n",
              "       [7.0000e+01, 5.0000e+00, 4.0000e+00, 0.0000e+00, 1.1110e+03,\n",
              "        0.0000e+00, 1.5000e+01, 0.0000e+00],\n",
              "       [6.6000e+01, 4.0000e+00, 4.0000e+00, 1.0000e+00, 0.0000e+00,\n",
              "        0.0000e+00, 4.0000e+00, 0.0000e+00],\n",
              "       [6.5000e+01, 7.0000e+00, 4.0000e+00, 1.0000e+00, 9.3860e+03,\n",
              "        0.0000e+00, 5.9000e+01, 1.0000e+00],\n",
              "       [6.1000e+01, 9.0000e+00, 4.0000e+00, 1.0000e+00, 0.0000e+00,\n",
              "        2.3520e+03, 5.0000e+01, 0.0000e+00],\n",
              "       [6.1000e+01, 9.0000e+00, 4.0000e+00, 1.0000e+00, 0.0000e+00,\n",
              "        0.0000e+00, 4.0000e+01, 0.0000e+00],\n",
              "       [6.8000e+01, 7.0000e+00, 4.0000e+00, 1.0000e+00, 0.0000e+00,\n",
              "        0.0000e+00, 2.0000e+01, 0.0000e+00],\n",
              "       [6.4000e+01, 1.3000e+01, 4.0000e+00, 1.0000e+00, 0.0000e+00,\n",
              "        0.0000e+00, 4.0000e+01, 1.0000e+00],\n",
              "       [6.4000e+01, 9.0000e+00, 4.0000e+00, 1.0000e+00, 0.0000e+00,\n",
              "        0.0000e+00, 4.5000e+01, 0.0000e+00],\n",
              "       [6.2000e+01, 9.0000e+00, 4.0000e+00, 0.0000e+00, 0.0000e+00,\n",
              "        0.0000e+00, 4.0000e+01, 0.0000e+00],\n",
              "       [7.3000e+01, 9.0000e+00, 4.0000e+00, 1.0000e+00, 0.0000e+00,\n",
              "        0.0000e+00, 4.0000e+01, 0.0000e+00],\n",
              "       [7.2000e+01, 7.0000e+00, 4.0000e+00, 0.0000e+00, 0.0000e+00,\n",
              "        0.0000e+00, 2.4000e+01, 0.0000e+00],\n",
              "       [6.3000e+01, 9.0000e+00, 4.0000e+00, 1.0000e+00, 0.0000e+00,\n",
              "        0.0000e+00, 6.0000e+00, 0.0000e+00],\n",
              "       [6.2000e+01, 1.3000e+01, 4.0000e+00, 0.0000e+00, 0.0000e+00,\n",
              "        0.0000e+00, 4.8000e+01, 0.0000e+00],\n",
              "       [6.1000e+01, 1.4000e+01, 4.0000e+00, 0.0000e+00, 0.0000e+00,\n",
              "        0.0000e+00, 4.0000e+01, 1.0000e+00],\n",
              "       [7.1000e+01, 1.4000e+01, 4.0000e+00, 1.0000e+00, 1.0605e+04,\n",
              "        0.0000e+00, 4.0000e+01, 1.0000e+00],\n",
              "       [6.3000e+01, 1.0000e+01, 4.0000e+00, 1.0000e+00, 0.0000e+00,\n",
              "        0.0000e+00, 1.5000e+01, 0.0000e+00],\n",
              "       [6.3000e+01, 4.0000e+00, 4.0000e+00, 1.0000e+00, 0.0000e+00,\n",
              "        0.0000e+00, 5.5000e+01, 0.0000e+00],\n",
              "       [6.7000e+01, 9.0000e+00, 1.0000e+00, 1.0000e+00, 0.0000e+00,\n",
              "        0.0000e+00, 4.0000e+01, 1.0000e+00],\n",
              "       [8.1000e+01, 9.0000e+00, 4.0000e+00, 1.0000e+00, 0.0000e+00,\n",
              "        0.0000e+00, 3.0000e+01, 0.0000e+00],\n",
              "       [6.4000e+01, 9.0000e+00, 4.0000e+00, 1.0000e+00, 0.0000e+00,\n",
              "        0.0000e+00, 5.0000e+00, 0.0000e+00],\n",
              "       [6.7000e+01, 1.3000e+01, 4.0000e+00, 1.0000e+00, 0.0000e+00,\n",
              "        2.3920e+03, 4.0000e+01, 1.0000e+00],\n",
              "       [7.8000e+01, 9.0000e+00, 2.0000e+00, 0.0000e+00, 2.9640e+03,\n",
              "        0.0000e+00, 4.0000e+01, 0.0000e+00],\n",
              "       [6.3000e+01, 1.1000e+01, 4.0000e+00, 0.0000e+00, 0.0000e+00,\n",
              "        0.0000e+00, 2.0000e+01, 0.0000e+00]])"
            ]
          },
          "metadata": {},
          "execution_count": 18
        }
      ]
    },
    {
      "cell_type": "code",
      "source": [
        "#Added all the working hours\n",
        "working_hours_sum = sum(senior_citizens[:,6])\n",
        "working_hours_sum"
      ],
      "metadata": {
        "colab": {
          "base_uri": "https://localhost:8080/"
        },
        "id": "waoDB2l7N-0x",
        "outputId": "bc428de6-8247-4f20-df8a-6a00d4f2b8bb"
      },
      "execution_count": 19,
      "outputs": [
        {
          "output_type": "execute_result",
          "data": {
            "text/plain": [
              "1917.0"
            ]
          },
          "metadata": {},
          "execution_count": 19
        }
      ]
    },
    {
      "cell_type": "code",
      "source": [
        "#Found the length of 'senior_citizens'\n",
        "senior_citizens_len = len(senior_citizens)\n",
        "senior_citizens_len"
      ],
      "metadata": {
        "colab": {
          "base_uri": "https://localhost:8080/"
        },
        "id": "dJTti6u3Omss",
        "outputId": "bee08a0b-9795-4969-d74a-66c40077a264"
      },
      "execution_count": 20,
      "outputs": [
        {
          "output_type": "execute_result",
          "data": {
            "text/plain": [
              "61"
            ]
          },
          "metadata": {},
          "execution_count": 20
        }
      ]
    },
    {
      "cell_type": "code",
      "source": [
        "#Found the average working hours of the senior citizens\n",
        "avg_working_hours = working_hours_sum / senior_citizens_len\n",
        "avg_working_hours"
      ],
      "metadata": {
        "colab": {
          "base_uri": "https://localhost:8080/"
        },
        "id": "Vh0mO91-O8RT",
        "outputId": "1b62ae62-2ccc-43e6-8e4a-08f1ee2a811c"
      },
      "execution_count": 21,
      "outputs": [
        {
          "output_type": "execute_result",
          "data": {
            "text/plain": [
              "31.42622950819672"
            ]
          },
          "metadata": {},
          "execution_count": 21
        }
      ]
    },
    {
      "cell_type": "markdown",
      "source": [
        "___________________________________________\n",
        "**Сheck that higher educated people have better pay in general.**\n",
        "___________________________________________"
      ],
      "metadata": {
        "id": "Ha3nCCQiHeE0"
      }
    },
    {
      "cell_type": "code",
      "source": [
        "#Create two new subsets according to education\n",
        "high = data2[data2[:,1]>10]\n",
        "low = data2[data2[:,1]<=10]\n",
        "print(high)\n",
        "print(low)"
      ],
      "metadata": {
        "colab": {
          "base_uri": "https://localhost:8080/"
        },
        "id": "E5PLtyaWPf-p",
        "outputId": "9254025b-0349-452f-c2b1-dd9878bde848"
      },
      "execution_count": 22,
      "outputs": [
        {
          "output_type": "stream",
          "name": "stdout",
          "text": [
            "[[39. 13.  4. ...  0. 40.  0.]\n",
            " [50. 13.  4. ...  0. 13.  0.]\n",
            " [28. 13.  2. ...  0. 40.  0.]\n",
            " ...\n",
            " [45. 14.  4. ...  0. 45.  0.]\n",
            " [48. 13.  4. ...  0. 58.  1.]\n",
            " [39. 13.  4. ...  0. 50.  1.]]\n",
            "[[38.  9.  4. ...  0. 40.  0.]\n",
            " [53.  7.  2. ...  0. 40.  0.]\n",
            " [49.  5.  2. ...  0. 16.  0.]\n",
            " ...\n",
            " [56.  9.  4. ...  0. 55.  1.]\n",
            " [40. 10.  4. ...  0. 40.  0.]\n",
            " [50.  9.  4. ...  0. 40.  0.]]\n"
          ]
        }
      ]
    },
    {
      "cell_type": "code",
      "source": [
        "#Found the mean of income column\n",
        "avg_pay_high = high[:,7].mean()\n",
        "avg_pay_low = low[:,7].mean()\n",
        "print(avg_pay_high)\n",
        "print(avg_pay_low)"
      ],
      "metadata": {
        "colab": {
          "base_uri": "https://localhost:8080/"
        },
        "id": "ssZygMGRPh_b",
        "outputId": "b8899a80-b4c9-4610-cce1-3787649f74b3"
      },
      "execution_count": 23,
      "outputs": [
        {
          "output_type": "stream",
          "name": "stdout",
          "text": [
            "0.42813455657492355\n",
            "0.13649851632047477\n"
          ]
        }
      ]
    }
  ]
}